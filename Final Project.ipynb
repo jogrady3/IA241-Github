{
 "cells": [
  {
   "cell_type": "markdown",
   "id": "67114c0c",
   "metadata": {},
   "source": [
    "# COVID-19 Data In the United States"
   ]
  },
  {
   "cell_type": "markdown",
   "id": "d8e12e13",
   "metadata": {},
   "source": [
    "![.](https://gray-wcjb-prod.cdn.arcpublishing.com/resizer/HreJWSgveGfp8Um3STUGO9WaFWU=/1200x675/smart/filters:quality(85)/cloudfront-us-east-1.images.arcpublishing.com/gray/QEFLL7ZGRVLW7I6PZ42FVEEKSY.png)"
   ]
  },
  {
   "cell_type": "markdown",
   "id": "96913888",
   "metadata": {},
   "source": [
    "## Author Information"
   ]
  },
  {
   "cell_type": "markdown",
   "id": "ee81a16f",
   "metadata": {},
   "source": [
    "Jack O'Grady                                      \n",
    "  IA 241                             \n",
    "JMU Intelligence Analyst Student"
   ]
  },
  {
   "cell_type": "markdown",
   "id": "54b1d081",
   "metadata": {},
   "source": [
    "## COVID-19 Background"
   ]
  },
  {
   "cell_type": "markdown",
   "id": "f5b8ac79",
   "metadata": {},
   "source": [
    "COVID-19 is a new strain of coronavirus, which is the result of an outbreak in Wuhan, China.  Cases have been rapidly increasing since December of 2019 and has spread to numerous countries.  Symptoms of the virus include a cough, fever, headache, loss of taste or smell, chills, sore throat, and more.  "
   ]
  },
  {
   "cell_type": "markdown",
   "id": "6476cdd6",
   "metadata": {},
   "source": [
    "## Data Source"
   ]
  },
  {
   "cell_type": "markdown",
   "id": "1f0cf15a",
   "metadata": {},
   "source": [
    "The data is downloaded from [European Centre for Disease Prevention and Control](https://www.ecdc.europa.eu/en/publications-data/download-todays-data-geographic-distribution-covid-19-cases-worldwide)"
   ]
  },
  {
   "cell_type": "code",
   "execution_count": 6,
   "id": "db29f347",
   "metadata": {},
   "outputs": [],
   "source": [
    "%matplotlib inline\n",
    "import pandas"
   ]
  },
  {
   "cell_type": "markdown",
   "id": "b0161f92",
   "metadata": {},
   "source": [
    "## Import Data From S3 Bucket"
   ]
  },
  {
   "cell_type": "code",
   "execution_count": 8,
   "id": "b6132078",
   "metadata": {},
   "outputs": [
    {
     "data": {
      "text/html": [
       "<div>\n",
       "<style scoped>\n",
       "    .dataframe tbody tr th:only-of-type {\n",
       "        vertical-align: middle;\n",
       "    }\n",
       "\n",
       "    .dataframe tbody tr th {\n",
       "        vertical-align: top;\n",
       "    }\n",
       "\n",
       "    .dataframe thead th {\n",
       "        text-align: right;\n",
       "    }\n",
       "</style>\n",
       "<table border=\"1\" class=\"dataframe\">\n",
       "  <thead>\n",
       "    <tr style=\"text-align: right;\">\n",
       "      <th></th>\n",
       "      <th>dateRep</th>\n",
       "      <th>day</th>\n",
       "      <th>month</th>\n",
       "      <th>year</th>\n",
       "      <th>cases</th>\n",
       "      <th>deaths</th>\n",
       "      <th>countriesAndTerritories</th>\n",
       "      <th>geoId</th>\n",
       "      <th>countryterritoryCode</th>\n",
       "      <th>popData2019</th>\n",
       "      <th>continentExp</th>\n",
       "      <th>Cumulative_number_for_14_days_of_COVID-19_cases_per_100000</th>\n",
       "    </tr>\n",
       "  </thead>\n",
       "  <tbody>\n",
       "    <tr>\n",
       "      <th>0</th>\n",
       "      <td>14/12/2020</td>\n",
       "      <td>14</td>\n",
       "      <td>12</td>\n",
       "      <td>2020</td>\n",
       "      <td>746</td>\n",
       "      <td>6</td>\n",
       "      <td>Afghanistan</td>\n",
       "      <td>AF</td>\n",
       "      <td>AFG</td>\n",
       "      <td>38041757.0</td>\n",
       "      <td>Asia</td>\n",
       "      <td>9.013779</td>\n",
       "    </tr>\n",
       "    <tr>\n",
       "      <th>1</th>\n",
       "      <td>13/12/2020</td>\n",
       "      <td>13</td>\n",
       "      <td>12</td>\n",
       "      <td>2020</td>\n",
       "      <td>298</td>\n",
       "      <td>9</td>\n",
       "      <td>Afghanistan</td>\n",
       "      <td>AF</td>\n",
       "      <td>AFG</td>\n",
       "      <td>38041757.0</td>\n",
       "      <td>Asia</td>\n",
       "      <td>7.052776</td>\n",
       "    </tr>\n",
       "    <tr>\n",
       "      <th>2</th>\n",
       "      <td>2020-12-12 00:00:00</td>\n",
       "      <td>12</td>\n",
       "      <td>12</td>\n",
       "      <td>2020</td>\n",
       "      <td>113</td>\n",
       "      <td>11</td>\n",
       "      <td>Afghanistan</td>\n",
       "      <td>AF</td>\n",
       "      <td>AFG</td>\n",
       "      <td>38041757.0</td>\n",
       "      <td>Asia</td>\n",
       "      <td>6.868768</td>\n",
       "    </tr>\n",
       "    <tr>\n",
       "      <th>3</th>\n",
       "      <td>2020-11-12 00:00:00</td>\n",
       "      <td>11</td>\n",
       "      <td>12</td>\n",
       "      <td>2020</td>\n",
       "      <td>63</td>\n",
       "      <td>10</td>\n",
       "      <td>Afghanistan</td>\n",
       "      <td>AF</td>\n",
       "      <td>AFG</td>\n",
       "      <td>38041757.0</td>\n",
       "      <td>Asia</td>\n",
       "      <td>7.134266</td>\n",
       "    </tr>\n",
       "    <tr>\n",
       "      <th>4</th>\n",
       "      <td>2020-10-12 00:00:00</td>\n",
       "      <td>10</td>\n",
       "      <td>12</td>\n",
       "      <td>2020</td>\n",
       "      <td>202</td>\n",
       "      <td>16</td>\n",
       "      <td>Afghanistan</td>\n",
       "      <td>AF</td>\n",
       "      <td>AFG</td>\n",
       "      <td>38041757.0</td>\n",
       "      <td>Asia</td>\n",
       "      <td>6.968658</td>\n",
       "    </tr>\n",
       "    <tr>\n",
       "      <th>5</th>\n",
       "      <td>2020-09-12 00:00:00</td>\n",
       "      <td>9</td>\n",
       "      <td>12</td>\n",
       "      <td>2020</td>\n",
       "      <td>135</td>\n",
       "      <td>13</td>\n",
       "      <td>Afghanistan</td>\n",
       "      <td>AF</td>\n",
       "      <td>AFG</td>\n",
       "      <td>38041757.0</td>\n",
       "      <td>Asia</td>\n",
       "      <td>6.963401</td>\n",
       "    </tr>\n",
       "    <tr>\n",
       "      <th>6</th>\n",
       "      <td>2020-08-12 00:00:00</td>\n",
       "      <td>8</td>\n",
       "      <td>12</td>\n",
       "      <td>2020</td>\n",
       "      <td>200</td>\n",
       "      <td>6</td>\n",
       "      <td>Afghanistan</td>\n",
       "      <td>AF</td>\n",
       "      <td>AFG</td>\n",
       "      <td>38041757.0</td>\n",
       "      <td>Asia</td>\n",
       "      <td>7.094835</td>\n",
       "    </tr>\n",
       "    <tr>\n",
       "      <th>7</th>\n",
       "      <td>2020-07-12 00:00:00</td>\n",
       "      <td>7</td>\n",
       "      <td>12</td>\n",
       "      <td>2020</td>\n",
       "      <td>210</td>\n",
       "      <td>26</td>\n",
       "      <td>Afghanistan</td>\n",
       "      <td>AF</td>\n",
       "      <td>AFG</td>\n",
       "      <td>38041757.0</td>\n",
       "      <td>Asia</td>\n",
       "      <td>7.215755</td>\n",
       "    </tr>\n",
       "    <tr>\n",
       "      <th>8</th>\n",
       "      <td>2020-06-12 00:00:00</td>\n",
       "      <td>6</td>\n",
       "      <td>12</td>\n",
       "      <td>2020</td>\n",
       "      <td>234</td>\n",
       "      <td>10</td>\n",
       "      <td>Afghanistan</td>\n",
       "      <td>AF</td>\n",
       "      <td>AFG</td>\n",
       "      <td>38041757.0</td>\n",
       "      <td>Asia</td>\n",
       "      <td>7.326160</td>\n",
       "    </tr>\n",
       "    <tr>\n",
       "      <th>9</th>\n",
       "      <td>2020-05-12 00:00:00</td>\n",
       "      <td>5</td>\n",
       "      <td>12</td>\n",
       "      <td>2020</td>\n",
       "      <td>235</td>\n",
       "      <td>18</td>\n",
       "      <td>Afghanistan</td>\n",
       "      <td>AF</td>\n",
       "      <td>AFG</td>\n",
       "      <td>38041757.0</td>\n",
       "      <td>Asia</td>\n",
       "      <td>7.115865</td>\n",
       "    </tr>\n",
       "  </tbody>\n",
       "</table>\n",
       "</div>"
      ],
      "text/plain": [
       "               dateRep  day  month  year  cases  deaths  \\\n",
       "0           14/12/2020   14     12  2020    746       6   \n",
       "1           13/12/2020   13     12  2020    298       9   \n",
       "2  2020-12-12 00:00:00   12     12  2020    113      11   \n",
       "3  2020-11-12 00:00:00   11     12  2020     63      10   \n",
       "4  2020-10-12 00:00:00   10     12  2020    202      16   \n",
       "5  2020-09-12 00:00:00    9     12  2020    135      13   \n",
       "6  2020-08-12 00:00:00    8     12  2020    200       6   \n",
       "7  2020-07-12 00:00:00    7     12  2020    210      26   \n",
       "8  2020-06-12 00:00:00    6     12  2020    234      10   \n",
       "9  2020-05-12 00:00:00    5     12  2020    235      18   \n",
       "\n",
       "  countriesAndTerritories geoId countryterritoryCode  popData2019  \\\n",
       "0             Afghanistan    AF                  AFG   38041757.0   \n",
       "1             Afghanistan    AF                  AFG   38041757.0   \n",
       "2             Afghanistan    AF                  AFG   38041757.0   \n",
       "3             Afghanistan    AF                  AFG   38041757.0   \n",
       "4             Afghanistan    AF                  AFG   38041757.0   \n",
       "5             Afghanistan    AF                  AFG   38041757.0   \n",
       "6             Afghanistan    AF                  AFG   38041757.0   \n",
       "7             Afghanistan    AF                  AFG   38041757.0   \n",
       "8             Afghanistan    AF                  AFG   38041757.0   \n",
       "9             Afghanistan    AF                  AFG   38041757.0   \n",
       "\n",
       "  continentExp  Cumulative_number_for_14_days_of_COVID-19_cases_per_100000  \n",
       "0         Asia                                           9.013779           \n",
       "1         Asia                                           7.052776           \n",
       "2         Asia                                           6.868768           \n",
       "3         Asia                                           7.134266           \n",
       "4         Asia                                           6.968658           \n",
       "5         Asia                                           6.963401           \n",
       "6         Asia                                           7.094835           \n",
       "7         Asia                                           7.215755           \n",
       "8         Asia                                           7.326160           \n",
       "9         Asia                                           7.115865           "
      ]
     },
     "execution_count": 8,
     "metadata": {},
     "output_type": "execute_result"
    }
   ],
   "source": [
    "df = pandas.read_excel('s3://ogrady-ia241-2022spring/covid_data.xls')\n",
    "df[:10]"
   ]
  },
  {
   "cell_type": "markdown",
   "id": "4fb4f3df",
   "metadata": {},
   "source": [
    "## List of Unique Countries"
   ]
  },
  {
   "cell_type": "code",
   "execution_count": 9,
   "id": "219e808a",
   "metadata": {},
   "outputs": [
    {
     "data": {
      "text/plain": [
       "array([u'Afghanistan', u'Albania', u'Algeria', u'Andorra', u'Angola',\n",
       "       u'Anguilla', u'Antigua_and_Barbuda', u'Argentina', u'Armenia',\n",
       "       u'Aruba', u'Australia', u'Austria', u'Azerbaijan', u'Bahamas',\n",
       "       u'Bahrain', u'Bangladesh', u'Barbados', u'Belarus', u'Belgium',\n",
       "       u'Belize', u'Benin', u'Bermuda', u'Bhutan', u'Bolivia',\n",
       "       u'Bonaire, Saint Eustatius and Saba', u'Bosnia_and_Herzegovina',\n",
       "       u'Botswana', u'Brazil', u'British_Virgin_Islands',\n",
       "       u'Brunei_Darussalam', u'Bulgaria', u'Burkina_Faso', u'Burundi',\n",
       "       u'Cambodia', u'Cameroon', u'Canada', u'Cape_Verde',\n",
       "       u'Cases_on_an_international_conveyance_Japan', u'Cayman_Islands',\n",
       "       u'Central_African_Republic', u'Chad', u'Chile', u'China',\n",
       "       u'Colombia', u'Comoros', u'Congo', u'Costa_Rica', u'Cote_dIvoire',\n",
       "       u'Croatia', u'Cuba', u'Cura\\xc3\\xa7ao', u'Cyprus', u'Czechia',\n",
       "       u'Democratic_Republic_of_the_Congo', u'Denmark', u'Djibouti',\n",
       "       u'Dominica', u'Dominican_Republic', u'Ecuador', u'Egypt',\n",
       "       u'El_Salvador', u'Equatorial_Guinea', u'Eritrea', u'Estonia',\n",
       "       u'Eswatini', u'Ethiopia', u'Falkland_Islands_(Malvinas)',\n",
       "       u'Faroe_Islands', u'Fiji', u'Finland', u'France',\n",
       "       u'French_Polynesia', u'Gabon', u'Gambia', u'Georgia', u'Germany',\n",
       "       u'Ghana', u'Gibraltar', u'Greece', u'Greenland', u'Grenada',\n",
       "       u'Guam', u'Guatemala', u'Guernsey', u'Guinea', u'Guinea_Bissau',\n",
       "       u'Guyana', u'Haiti', u'Holy_See', u'Honduras', u'Hungary',\n",
       "       u'Iceland', u'India', u'Indonesia', u'Iran', u'Iraq', u'Ireland',\n",
       "       u'Isle_of_Man', u'Israel', u'Italy', u'Jamaica', u'Japan',\n",
       "       u'Jersey', u'Jordan', u'Kazakhstan', u'Kenya', u'Kosovo',\n",
       "       u'Kuwait', u'Kyrgyzstan', u'Laos', u'Latvia', u'Lebanon',\n",
       "       u'Lesotho', u'Liberia', u'Libya', u'Liechtenstein', u'Lithuania',\n",
       "       u'Luxembourg', u'Madagascar', u'Malawi', u'Malaysia', u'Maldives',\n",
       "       u'Mali', u'Malta', u'Marshall_Islands', u'Mauritania',\n",
       "       u'Mauritius', u'Mexico', u'Moldova', u'Monaco', u'Mongolia',\n",
       "       u'Montenegro', u'Montserrat', u'Morocco', u'Mozambique',\n",
       "       u'Myanmar', u'Namibia', u'Nepal', u'Netherlands', u'New_Caledonia',\n",
       "       u'New_Zealand', u'Nicaragua', u'Niger', u'Nigeria',\n",
       "       u'North_Macedonia', u'Northern_Mariana_Islands', u'Norway',\n",
       "       u'Oman', u'Pakistan', u'Palestine', u'Panama', u'Papua_New_Guinea',\n",
       "       u'Paraguay', u'Peru', u'Philippines', u'Poland', u'Portugal',\n",
       "       u'Puerto_Rico', u'Qatar', u'Romania', u'Russia', u'Rwanda',\n",
       "       u'Saint_Kitts_and_Nevis', u'Saint_Lucia',\n",
       "       u'Saint_Vincent_and_the_Grenadines', u'San_Marino',\n",
       "       u'Sao_Tome_and_Principe', u'Saudi_Arabia', u'Senegal', u'Serbia',\n",
       "       u'Seychelles', u'Sierra_Leone', u'Singapore', u'Sint_Maarten',\n",
       "       u'Slovakia', u'Slovenia', u'Solomon_Islands', u'Somalia',\n",
       "       u'South_Africa', u'South_Korea', u'South_Sudan', u'Spain',\n",
       "       u'Sri_Lanka', u'Sudan', u'Suriname', u'Sweden', u'Switzerland',\n",
       "       u'Syria', u'Taiwan', u'Tajikistan', u'Thailand', u'Timor_Leste',\n",
       "       u'Togo', u'Trinidad_and_Tobago', u'Tunisia', u'Turkey',\n",
       "       u'Turks_and_Caicos_islands', u'Uganda', u'Ukraine',\n",
       "       u'United_Arab_Emirates', u'United_Kingdom',\n",
       "       u'United_Republic_of_Tanzania', u'United_States_of_America',\n",
       "       u'United_States_Virgin_Islands', u'Uruguay', u'Uzbekistan',\n",
       "       u'Vanuatu', u'Venezuela', u'Vietnam', u'Wallis_and_Futuna',\n",
       "       u'Western_Sahara', u'Yemen', u'Zambia', u'Zimbabwe'], dtype=object)"
      ]
     },
     "execution_count": 9,
     "metadata": {},
     "output_type": "execute_result"
    }
   ],
   "source": [
    "pandas.unique(df['countriesAndTerritories'])"
   ]
  },
  {
   "cell_type": "markdown",
   "id": "686d8efa",
   "metadata": {},
   "source": [
    "## United States Data"
   ]
  },
  {
   "cell_type": "code",
   "execution_count": 10,
   "id": "788a9fc1",
   "metadata": {
    "scrolled": true
   },
   "outputs": [
    {
     "data": {
      "text/html": [
       "<div>\n",
       "<style scoped>\n",
       "    .dataframe tbody tr th:only-of-type {\n",
       "        vertical-align: middle;\n",
       "    }\n",
       "\n",
       "    .dataframe tbody tr th {\n",
       "        vertical-align: top;\n",
       "    }\n",
       "\n",
       "    .dataframe thead th {\n",
       "        text-align: right;\n",
       "    }\n",
       "</style>\n",
       "<table border=\"1\" class=\"dataframe\">\n",
       "  <thead>\n",
       "    <tr style=\"text-align: right;\">\n",
       "      <th></th>\n",
       "      <th>dateRep</th>\n",
       "      <th>day</th>\n",
       "      <th>month</th>\n",
       "      <th>year</th>\n",
       "      <th>cases</th>\n",
       "      <th>deaths</th>\n",
       "      <th>countriesAndTerritories</th>\n",
       "      <th>geoId</th>\n",
       "      <th>countryterritoryCode</th>\n",
       "      <th>popData2019</th>\n",
       "      <th>continentExp</th>\n",
       "      <th>Cumulative_number_for_14_days_of_COVID-19_cases_per_100000</th>\n",
       "    </tr>\n",
       "  </thead>\n",
       "  <tbody>\n",
       "    <tr>\n",
       "      <th>59001</th>\n",
       "      <td>14/12/2020</td>\n",
       "      <td>14</td>\n",
       "      <td>12</td>\n",
       "      <td>2020</td>\n",
       "      <td>189723</td>\n",
       "      <td>1340</td>\n",
       "      <td>United_States_of_America</td>\n",
       "      <td>US</td>\n",
       "      <td>USA</td>\n",
       "      <td>329064917.0</td>\n",
       "      <td>America</td>\n",
       "      <td>873.211592</td>\n",
       "    </tr>\n",
       "    <tr>\n",
       "      <th>59002</th>\n",
       "      <td>13/12/2020</td>\n",
       "      <td>13</td>\n",
       "      <td>12</td>\n",
       "      <td>2020</td>\n",
       "      <td>216017</td>\n",
       "      <td>2315</td>\n",
       "      <td>United_States_of_America</td>\n",
       "      <td>US</td>\n",
       "      <td>USA</td>\n",
       "      <td>329064917.0</td>\n",
       "      <td>America</td>\n",
       "      <td>857.089241</td>\n",
       "    </tr>\n",
       "    <tr>\n",
       "      <th>59003</th>\n",
       "      <td>2020-12-12 00:00:00</td>\n",
       "      <td>12</td>\n",
       "      <td>12</td>\n",
       "      <td>2020</td>\n",
       "      <td>234633</td>\n",
       "      <td>3343</td>\n",
       "      <td>United_States_of_America</td>\n",
       "      <td>US</td>\n",
       "      <td>USA</td>\n",
       "      <td>329064917.0</td>\n",
       "      <td>America</td>\n",
       "      <td>838.514183</td>\n",
       "    </tr>\n",
       "    <tr>\n",
       "      <th>59004</th>\n",
       "      <td>2020-11-12 00:00:00</td>\n",
       "      <td>11</td>\n",
       "      <td>12</td>\n",
       "      <td>2020</td>\n",
       "      <td>224680</td>\n",
       "      <td>2748</td>\n",
       "      <td>United_States_of_America</td>\n",
       "      <td>US</td>\n",
       "      <td>USA</td>\n",
       "      <td>329064917.0</td>\n",
       "      <td>America</td>\n",
       "      <td>830.394205</td>\n",
       "    </tr>\n",
       "    <tr>\n",
       "      <th>59005</th>\n",
       "      <td>2020-10-12 00:00:00</td>\n",
       "      <td>10</td>\n",
       "      <td>12</td>\n",
       "      <td>2020</td>\n",
       "      <td>220025</td>\n",
       "      <td>3124</td>\n",
       "      <td>United_States_of_America</td>\n",
       "      <td>US</td>\n",
       "      <td>USA</td>\n",
       "      <td>329064917.0</td>\n",
       "      <td>America</td>\n",
       "      <td>794.356027</td>\n",
       "    </tr>\n",
       "    <tr>\n",
       "      <th>59006</th>\n",
       "      <td>2020-09-12 00:00:00</td>\n",
       "      <td>9</td>\n",
       "      <td>12</td>\n",
       "      <td>2020</td>\n",
       "      <td>217344</td>\n",
       "      <td>2564</td>\n",
       "      <td>United_States_of_America</td>\n",
       "      <td>US</td>\n",
       "      <td>USA</td>\n",
       "      <td>329064917.0</td>\n",
       "      <td>America</td>\n",
       "      <td>784.195114</td>\n",
       "    </tr>\n",
       "    <tr>\n",
       "      <th>59007</th>\n",
       "      <td>2020-08-12 00:00:00</td>\n",
       "      <td>8</td>\n",
       "      <td>12</td>\n",
       "      <td>2020</td>\n",
       "      <td>197334</td>\n",
       "      <td>1433</td>\n",
       "      <td>United_States_of_America</td>\n",
       "      <td>US</td>\n",
       "      <td>USA</td>\n",
       "      <td>329064917.0</td>\n",
       "      <td>America</td>\n",
       "      <td>769.896719</td>\n",
       "    </tr>\n",
       "    <tr>\n",
       "      <th>59008</th>\n",
       "      <td>2020-07-12 00:00:00</td>\n",
       "      <td>7</td>\n",
       "      <td>12</td>\n",
       "      <td>2020</td>\n",
       "      <td>173432</td>\n",
       "      <td>1111</td>\n",
       "      <td>United_States_of_America</td>\n",
       "      <td>US</td>\n",
       "      <td>USA</td>\n",
       "      <td>329064917.0</td>\n",
       "      <td>America</td>\n",
       "      <td>762.794473</td>\n",
       "    </tr>\n",
       "    <tr>\n",
       "      <th>59009</th>\n",
       "      <td>2020-06-12 00:00:00</td>\n",
       "      <td>6</td>\n",
       "      <td>12</td>\n",
       "      <td>2020</td>\n",
       "      <td>211933</td>\n",
       "      <td>2203</td>\n",
       "      <td>United_States_of_America</td>\n",
       "      <td>US</td>\n",
       "      <td>USA</td>\n",
       "      <td>329064917.0</td>\n",
       "      <td>America</td>\n",
       "      <td>757.944062</td>\n",
       "    </tr>\n",
       "    <tr>\n",
       "      <th>59010</th>\n",
       "      <td>2020-05-12 00:00:00</td>\n",
       "      <td>5</td>\n",
       "      <td>12</td>\n",
       "      <td>2020</td>\n",
       "      <td>231930</td>\n",
       "      <td>2680</td>\n",
       "      <td>United_States_of_America</td>\n",
       "      <td>US</td>\n",
       "      <td>USA</td>\n",
       "      <td>329064917.0</td>\n",
       "      <td>America</td>\n",
       "      <td>746.870564</td>\n",
       "    </tr>\n",
       "  </tbody>\n",
       "</table>\n",
       "</div>"
      ],
      "text/plain": [
       "                   dateRep  day  month  year   cases  deaths  \\\n",
       "59001           14/12/2020   14     12  2020  189723    1340   \n",
       "59002           13/12/2020   13     12  2020  216017    2315   \n",
       "59003  2020-12-12 00:00:00   12     12  2020  234633    3343   \n",
       "59004  2020-11-12 00:00:00   11     12  2020  224680    2748   \n",
       "59005  2020-10-12 00:00:00   10     12  2020  220025    3124   \n",
       "59006  2020-09-12 00:00:00    9     12  2020  217344    2564   \n",
       "59007  2020-08-12 00:00:00    8     12  2020  197334    1433   \n",
       "59008  2020-07-12 00:00:00    7     12  2020  173432    1111   \n",
       "59009  2020-06-12 00:00:00    6     12  2020  211933    2203   \n",
       "59010  2020-05-12 00:00:00    5     12  2020  231930    2680   \n",
       "\n",
       "        countriesAndTerritories geoId countryterritoryCode  popData2019  \\\n",
       "59001  United_States_of_America    US                  USA  329064917.0   \n",
       "59002  United_States_of_America    US                  USA  329064917.0   \n",
       "59003  United_States_of_America    US                  USA  329064917.0   \n",
       "59004  United_States_of_America    US                  USA  329064917.0   \n",
       "59005  United_States_of_America    US                  USA  329064917.0   \n",
       "59006  United_States_of_America    US                  USA  329064917.0   \n",
       "59007  United_States_of_America    US                  USA  329064917.0   \n",
       "59008  United_States_of_America    US                  USA  329064917.0   \n",
       "59009  United_States_of_America    US                  USA  329064917.0   \n",
       "59010  United_States_of_America    US                  USA  329064917.0   \n",
       "\n",
       "      continentExp  Cumulative_number_for_14_days_of_COVID-19_cases_per_100000  \n",
       "59001      America                                         873.211592           \n",
       "59002      America                                         857.089241           \n",
       "59003      America                                         838.514183           \n",
       "59004      America                                         830.394205           \n",
       "59005      America                                         794.356027           \n",
       "59006      America                                         784.195114           \n",
       "59007      America                                         769.896719           \n",
       "59008      America                                         762.794473           \n",
       "59009      America                                         757.944062           \n",
       "59010      America                                         746.870564           "
      ]
     },
     "execution_count": 10,
     "metadata": {},
     "output_type": "execute_result"
    }
   ],
   "source": [
    "United_States_of_America_data= df.loc[df['countriesAndTerritories']=='United_States_of_America']\n",
    "United_States_of_America_data[:10]"
   ]
  },
  {
   "cell_type": "markdown",
   "id": "f7685a81",
   "metadata": {},
   "source": [
    "## The Sum of COVID-19 Cases in the U.S. in 2020"
   ]
  },
  {
   "cell_type": "code",
   "execution_count": 11,
   "id": "0c940dee",
   "metadata": {},
   "outputs": [
    {
     "data": {
      "text/plain": [
       "16256754.0"
      ]
     },
     "execution_count": 11,
     "metadata": {},
     "output_type": "execute_result"
    }
   ],
   "source": [
    "United_States_of_America_data.sum()['cases']\n"
   ]
  },
  {
   "cell_type": "markdown",
   "id": "41fca852",
   "metadata": {},
   "source": [
    "## The Sum of COVID-19 Deaths in the U.S. in 2020"
   ]
  },
  {
   "cell_type": "code",
   "execution_count": 12,
   "id": "414556a6",
   "metadata": {},
   "outputs": [
    {
     "data": {
      "text/plain": [
       "299177.0"
      ]
     },
     "execution_count": 12,
     "metadata": {},
     "output_type": "execute_result"
    }
   ],
   "source": [
    "United_States_of_America_data.sum()['deaths']"
   ]
  },
  {
   "cell_type": "markdown",
   "id": "11834af8",
   "metadata": {},
   "source": [
    "## How are Number of Cases Related to Number of Deaths?"
   ]
  },
  {
   "cell_type": "code",
   "execution_count": 13,
   "id": "a11ecf09",
   "metadata": {
    "scrolled": true
   },
   "outputs": [
    {
     "data": {
      "text/plain": [
       "<matplotlib.axes._subplots.AxesSubplot at 0x7f06e6846310>"
      ]
     },
     "execution_count": 13,
     "metadata": {},
     "output_type": "execute_result"
    },
    {
     "data": {
      "image/png": "[encoded data removed]",
      "text/plain": [
       "<Figure size 432x288 with 2 Axes>"
      ]
     },
     "metadata": {
      "needs_background": "light"
     },
     "output_type": "display_data"
    }
   ],
   "source": [
    "United_States_of_America_data.plot.scatter(x='cases',y='deaths',c='month')"
   ]
  },
  {
   "cell_type": "markdown",
   "id": "099ffb17",
   "metadata": {},
   "source": [
    "The scatter plot diagram shows the high number of cases along with the high number of deaths in the first few months of the year ranging from January to April.  As the year goes on, the diagram highlights the decrease in deaths per cases, but the number of cases continued to stay at a high rate.  "
   ]
  },
  {
   "cell_type": "markdown",
   "id": "da149243",
   "metadata": {},
   "source": [
    "## Trend of COVID-19 Cases per Month in the U.S. Throughout 2020"
   ]
  },
  {
   "cell_type": "code",
   "execution_count": 14,
   "id": "8a1fdbb1",
   "metadata": {},
   "outputs": [
    {
     "data": {
      "text/plain": [
       "<matplotlib.axes._subplots.AxesSubplot at 0x7f06e6423ad0>"
      ]
     },
     "execution_count": 14,
     "metadata": {},
     "output_type": "execute_result"
    },
    {
     "data": {
      "image/png": "[encoded data removed]",
      "text/plain": [
       "<Figure size 432x288 with 1 Axes>"
      ]
     },
     "metadata": {
      "needs_background": "light"
     },
     "output_type": "display_data"
    }
   ],
   "source": [
    "sum_cases_by_month = United_States_of_America_data.groupby('month').sum()['cases']\n",
    "sum_cases_by_month.plot.bar()"
   ]
  },
  {
   "cell_type": "markdown",
   "id": "436973c2",
   "metadata": {},
   "source": [
    "The box plot diagram shows the low amount of cases in the first few months of the year, then they gradually started to increase and spiked during July.  After July, they started to go down a bit, in October they started to increased again, and in Novermber cases doubled.  In December they went down a lot, but were still at a high number."
   ]
  },
  {
   "cell_type": "markdown",
   "id": "a0c498c4",
   "metadata": {},
   "source": [
    "## Trend of COVID-19 Deaths per Month in the U.S. Throughout 2020 "
   ]
  },
  {
   "cell_type": "code",
   "execution_count": 17,
   "id": "07ba8564",
   "metadata": {},
   "outputs": [
    {
     "data": {
      "text/plain": [
       "<matplotlib.axes._subplots.AxesSubplot at 0x7f06e6187650>"
      ]
     },
     "execution_count": 17,
     "metadata": {},
     "output_type": "execute_result"
    },
    {
     "data": {
      "image/png": "[encoded data removed]",
      "text/plain": [
       "<Figure size 432x288 with 1 Axes>"
      ]
     },
     "metadata": {
      "needs_background": "light"
     },
     "output_type": "display_data"
    }
   ],
   "source": [
    "sum_deaths_per_month=United_States_of_America_data.groupby('month').sum()['deaths']\n",
    "sum_deaths_per_month.plot()"
   ]
  },
  {
   "cell_type": "markdown",
   "id": "7e645a24",
   "metadata": {},
   "source": [
    "The line graph shows that the number of COVID-19 deaths were very low in the first 3 moths of the year, and in April they spiked to well over 5,000 deaths.  After April, the amount of deaths started to decrease with spikes in August and November.  At the end of the year there were still a high number of deaths related to COVID-19."
   ]
  },
  {
   "cell_type": "markdown",
   "id": "d2c6c629",
   "metadata": {},
   "source": [
    "## Conclusion/Limitations"
   ]
  },
  {
   "cell_type": "markdown",
   "id": "69df358a",
   "metadata": {},
   "source": [
    "In conclusion, the United States had its peak number of COVID-19 cases during November and had its peak number of COVID-19 related deaths in April.  Going into 2021, The United States stull has an unstable amount of cases even though there was a drop in cases and deaths from November to December, the amount of cases are resting around 3,000,000 and the number of deaths are around 30,000.  The number of cases compared to the number of deaths was very interesting, as the amount of cases totaled 16,256,654 and the amount of deaths totaled 299,177, meaning the virus was not as deadly as it seemed.  My limitations working on this project were mainly learning how to use Python in a short amount of time, and studying a country a a whole compared to different areas/sections of a country to get more detailed information.  Some further suggestions to imporve my project would be to develop more graphs/diagrams to learn more about how the virus affected different areas and people. "
   ]
  }
 ],
 "metadata": {
  "kernelspec": {
   "display_name": "conda_python2",
   "language": "python",
   "name": "conda_python2"
  },
  "language_info": {
   "codemirror_mode": {
    "name": "ipython",
    "version": 2
   },
   "file_extension": ".py",
   "mimetype": "text/x-python",
   "name": "python",
   "nbconvert_exporter": "python",
   "pygments_lexer": "ipython2",
   "version": "2.7.16"
  }
 },
 "nbformat": 4,
 "nbformat_minor": 5
}
